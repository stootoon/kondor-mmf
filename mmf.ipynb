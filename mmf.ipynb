{
 "cells": [
  {
   "cell_type": "code",
   "execution_count": 1,
   "metadata": {
    "autoscroll": false,
    "collapsed": false,
    "ein.hycell": false,
    "ein.tags": "worksheet-0",
    "slideshow": {
     "slide_type": "-"
    }
   },
   "outputs": [
    {
     "name": "stdout",
     "output_type": "stream",
     "text": [
      "Populating the interactive namespace from numpy and matplotlib\n"
     ]
    }
   ],
   "source": [
    "%pylab inline\n",
    "plt.style.use(\"default\")\n",
    "from mpl_toolkits.axes_grid1 import make_axes_locatable"
   ]
  },
  {
   "cell_type": "code",
   "execution_count": 2,
   "metadata": {
    "autoscroll": false,
    "collapsed": false,
    "ein.hycell": false,
    "ein.tags": "worksheet-0",
    "slideshow": {
     "slide_type": "-"
    }
   },
   "outputs": [],
   "source": [
    "n_roi, n_odour = 148, 48\n",
    "X = randn(n_roi, n_odour)\n",
    "A = X.T @ X"
   ]
  },
  {
   "cell_type": "code",
   "execution_count": 3,
   "metadata": {
    "autoscroll": false,
    "collapsed": false,
    "ein.hycell": false,
    "ein.tags": "worksheet-0",
    "slideshow": {
     "slide_type": "-"
    }
   },
   "outputs": [],
   "source": [
    "R1 = qr(randn(24,24))[0]\n",
    "U1 = eye(48); U1[:24,:24] = R1"
   ]
  },
  {
   "cell_type": "code",
   "execution_count": 4,
   "metadata": {
    "autoscroll": false,
    "collapsed": false,
    "ein.hycell": false,
    "ein.tags": "worksheet-0",
    "slideshow": {
     "slide_type": "-"
    }
   },
   "outputs": [],
   "source": [
    "R2 = qr(randn(12,12))[0]\n",
    "U2 = eye(48); U2[:12,:12] = R2"
   ]
  },
  {
   "cell_type": "code",
   "execution_count": 5,
   "metadata": {
    "autoscroll": false,
    "collapsed": false,
    "ein.hycell": false,
    "ein.tags": "worksheet-0",
    "slideshow": {
     "slide_type": "-"
    }
   },
   "outputs": [],
   "source": [
    "A1 = U1 @ A @ U1.T\n",
    "A2 = U2 @ A1 @ U2.T"
   ]
  },
  {
   "cell_type": "code",
   "execution_count": 6,
   "metadata": {
    "autoscroll": false,
    "collapsed": false,
    "ein.hycell": false,
    "ein.tags": "worksheet-0",
    "slideshow": {
     "slide_type": "-"
    }
   },
   "outputs": [],
   "source": [
    "S = [arange(48), arange(24), arange(12)]\n",
    "J = [[]] + [setdiff1d(S[i-1],S[i]) for i in range(1,3)]"
   ]
  },
  {
   "cell_type": "code",
   "execution_count": 7,
   "metadata": {
    "autoscroll": false,
    "collapsed": false,
    "ein.hycell": false,
    "ein.tags": "worksheet-0",
    "slideshow": {
     "slide_type": "-"
    }
   },
   "outputs": [],
   "source": [
    "def resi(H, S):\n",
    "    SL = S[-1]\n",
    "    F = sum(H**2)\n",
    "    F -= sum(H[SL][:,SL]**2)\n",
    "    F -= diag(H**2).sum()\n",
    "    F += diag(H[SL][:,SL]**2).sum()\n",
    "    return F\n",
    "\n",
    "def offdiag(H):\n",
    "    return sum(H**2) - diag(H**2).sum()"
   ]
  },
  {
   "cell_type": "code",
   "execution_count": 8,
   "metadata": {
    "autoscroll": false,
    "collapsed": false,
    "ein.hycell": false,
    "ein.tags": "worksheet-0",
    "slideshow": {
     "slide_type": "-"
    }
   },
   "outputs": [],
   "source": [
    "E1 = offdiag(A1[J[1]][:,J[1]]) + 2 * sum(A1[J[1]][:,S[1]]**2)\n",
    "E2 = offdiag(A2[J[2]][:,J[2]]) + 2 * sum(A2[J[2]][:,S[2]]**2)\n",
    "assert allclose(E1 + E2,resi(A2,S))"
   ]
  },
  {
   "cell_type": "code",
   "execution_count": 9,
   "metadata": {
    "autoscroll": false,
    "collapsed": false,
    "ein.hycell": false,
    "ein.tags": "worksheet-0",
    "slideshow": {
     "slide_type": "-"
    }
   },
   "outputs": [],
   "source": [
    "N = 12\n",
    "S = [arange(N), arange(N-1), arange(N-2)]; S = [list(s) for s in S]\n",
    "J = [[]] + [setdiff1d(S[i-1],S[i]) for i in range(1,3)]"
   ]
  },
  {
   "cell_type": "code",
   "execution_count": 10,
   "metadata": {
    "autoscroll": false,
    "collapsed": false,
    "ein.hycell": false,
    "ein.tags": "worksheet-0",
    "slideshow": {
     "slide_type": "-"
    }
   },
   "outputs": [
    {
     "name": "stdout",
     "output_type": "stream",
     "text": [
      "True\n",
      "True\n"
     ]
    }
   ],
   "source": [
    "X = randn(4*N, N)\n",
    "A = X.T @ X\n",
    "I1 = S[0][-2:]\n",
    "I2 = S[1][-2:]\n",
    "U1 = eye(N); O1 = qr(randn(2,2))[0]; U1[np.ix_(I1,I1)] = O1\n",
    "U2 = eye(N); O2 = qr(randn(2,2))[0]; U2[np.ix_(I2,I2)] = O2;\n",
    "x = randn(U1.shape[0]); print(allclose(norm(U1 @ x)**2, norm(x)**2))\n",
    "x = randn(U2.shape[0]); print(allclose(norm(U2 @ x)**2, norm(x)**2))\n",
    "A1 = U1 @ A  @ U1.T\n",
    "A2 = U2 @ A1 @ U2.T"
   ]
  },
  {
   "cell_type": "code",
   "execution_count": 11,
   "metadata": {
    "autoscroll": false,
    "collapsed": false,
    "ein.hycell": false,
    "ein.tags": "worksheet-0",
    "slideshow": {
     "slide_type": "-"
    }
   },
   "outputs": [],
   "source": [
    "E1 = 0*offdiag(A1[J[1]][:,J[1]]) + 2 * sum(A1[J[1]][:,S[1]]**2)\n",
    "E2 = 0*offdiag(A2[J[2]][:,J[2]]) + 2 * sum(A2[J[2]][:,S[2]]**2)\n",
    "assert allclose(E1 + E2,resi(A2,S))"
   ]
  },
  {
   "cell_type": "code",
   "execution_count": 12,
   "metadata": {
    "autoscroll": false,
    "collapsed": false,
    "ein.hycell": false,
    "ein.tags": "worksheet-0",
    "slideshow": {
     "slide_type": "-"
    }
   },
   "outputs": [],
   "source": [
    "S11 = [i for i in S[1] if i not in I1]\n",
    "I11 = [i for i in I1   if i in   S[1]]"
   ]
  },
  {
   "cell_type": "code",
   "execution_count": 13,
   "metadata": {
    "autoscroll": false,
    "collapsed": false,
    "ein.hycell": false,
    "ein.tags": "worksheet-0",
    "slideshow": {
     "slide_type": "-"
    }
   },
   "outputs": [],
   "source": [
    "E1_0 = 2*sum(A1[J[1]][:,S[1]]**2)\n",
    "E1_1 = 2*sum(A1[J[1]][:, I11]**2)\n",
    "E1_2 = 2*sum(A1[J[1]][:, S11]**2)"
   ]
  },
  {
   "cell_type": "code",
   "execution_count": 14,
   "metadata": {
    "autoscroll": false,
    "collapsed": false,
    "ein.hycell": false,
    "ein.tags": "worksheet-0",
    "slideshow": {
     "slide_type": "-"
    }
   },
   "outputs": [
    {
     "name": "stdout",
     "output_type": "stream",
     "text": [
      "635.5347150363915 635.5347150363915 26.51287497270336 609.0218400636882\n"
     ]
    }
   ],
   "source": [
    "print(E1, E1_0, E1_1, E1_2)"
   ]
  },
  {
   "cell_type": "code",
   "execution_count": 15,
   "metadata": {
    "autoscroll": false,
    "collapsed": false,
    "ein.hycell": false,
    "ein.tags": "worksheet-0",
    "slideshow": {
     "slide_type": "-"
    }
   },
   "outputs": [
    {
     "name": "stdout",
     "output_type": "stream",
     "text": [
      "26.51287497270336\n"
     ]
    },
    {
     "data": {
      "text/plain": [
       "True"
      ]
     },
     "execution_count": 15,
     "metadata": {},
     "output_type": "execute_result"
    }
   ],
   "source": [
    "k1 = I1[-1]\n",
    "E11 = 2 * sum((O1 @ A[I1][:,I1] @ O1.T)[-1,:-1]**2)\n",
    "print(E11)\n",
    "allclose(E11, E1_1)"
   ]
  },
  {
   "cell_type": "code",
   "execution_count": 16,
   "metadata": {
    "autoscroll": false,
    "collapsed": false,
    "ein.hycell": false,
    "ein.tags": "worksheet-0",
    "slideshow": {
     "slide_type": "-"
    }
   },
   "outputs": [
    {
     "data": {
      "text/plain": [
       "26.51287497270323"
      ]
     },
     "execution_count": 16,
     "metadata": {},
     "output_type": "execute_result"
    }
   ],
   "source": [
    "2*((O1 @ A[I1][:,I1] @ A[I1][:,I1].T @ O1.T)[-1,-1] - (O1 @ A[I1][:,I1] @ O1.T)[-1,-1]**2)"
   ]
  },
  {
   "cell_type": "code",
   "execution_count": 17,
   "metadata": {
    "autoscroll": false,
    "collapsed": false,
    "ein.hycell": false,
    "ein.tags": "worksheet-0",
    "slideshow": {
     "slide_type": "-"
    }
   },
   "outputs": [
    {
     "data": {
      "text/plain": [
       "True"
      ]
     },
     "execution_count": 17,
     "metadata": {},
     "output_type": "execute_result"
    }
   ],
   "source": [
    "B = A[I1][:, S11]\n",
    "B = B @ B.T\n",
    "E12 = 2* (O1 @ B @ O1.T)[-1,-1]\n",
    "allclose(E12, E1_2)"
   ]
  },
  {
   "cell_type": "code",
   "execution_count": 19,
   "metadata": {
    "autoscroll": false,
    "collapsed": false,
    "ein.hycell": false,
    "ein.tags": "worksheet-0",
    "slideshow": {
     "slide_type": "-"
    }
   },
   "outputs": [
    {
     "data": {
      "text/plain": [
       "True"
      ]
     },
     "execution_count": 19,
     "metadata": {},
     "output_type": "execute_result"
    }
   ],
   "source": [
    "B1 = A[:, S[1]] @ A[:, S[1]].T\n",
    "E11 = 2*sum((U1 @ A @ U1.T)[:-1,-1]**2)\n",
    "allclose(E11, E1)\n",
    "#E11 += 2 * (U1 @ B1 @ U1.T)[-1,-1]"
   ]
  },
  {
   "cell_type": "markdown",
   "metadata": {
    "ein.tags": "worksheet-0",
    "slideshow": {
     "slide_type": "-"
    }
   },
   "source": [
    "# Apply this to real data"
   ]
  },
  {
   "cell_type": "code",
   "execution_count": 20,
   "metadata": {
    "autoscroll": false,
    "collapsed": false,
    "ein.hycell": false,
    "ein.tags": "worksheet-0",
    "slideshow": {
     "slide_type": "-"
    }
   },
   "outputs": [],
   "source": [
    "# Load mdlCs from file\n",
    "import pickle\n",
    "with open(\"mdlCs.pkl\", \"rb\") as f:\n",
    "    mdlCs = pickle.load(f)"
   ]
  },
  {
   "cell_type": "code",
   "execution_count": 23,
   "metadata": {
    "autoscroll": false,
    "collapsed": false,
    "ein.hycell": false,
    "ein.tags": "worksheet-0",
    "slideshow": {
     "slide_type": "-"
    }
   },
   "outputs": [
    {
     "data": {
      "text/plain": [
       "<matplotlib.colorbar.Colorbar at 0x7fbd5e9d4cd0>"
      ]
     },
     "execution_count": 23,
     "metadata": {},
     "output_type": "execute_result"
    },
    {
     "data": {
      "image/png": "[encoded data removed]",
      "text/plain": [
       "<Figure size 480x480 with 2 Axes>"
      ]
     },
     "metadata": {},
     "output_type": "display_data"
    }
   ],
   "source": [
    "from scipy.cluster.hierarchy import linkage, leaves_list\n",
    "C = mdlCs[\"Free\"]\n",
    "which_order = \"Cstar\"\n",
    "CC = C[which_order]\n",
    "link = linkage(CC, method = 'average')\n",
    "leaf_order = leaves_list(link)\n",
    "CC = CC[leaf_order][:,leaf_order]\n",
    "matshow(CC, vmin=-20,vmax=100, cmap=cm.Spectral_r); colorbar()\n"
   ]
  },
  {
   "cell_type": "code",
   "execution_count": 24,
   "metadata": {
    "autoscroll": false,
    "collapsed": false,
    "ein.hycell": false,
    "ein.tags": "worksheet-0",
    "slideshow": {
     "slide_type": "-"
    }
   },
   "outputs": [
    {
     "data": {
      "text/plain": [
       "<module 'mmf' from '/nemo/lab/schaefera/working/tootoos/git/glom-io-transform/analyses/connectivity2/mmf.py'>"
      ]
     },
     "execution_count": 24,
     "metadata": {},
     "output_type": "execute_result"
    }
   ],
   "source": [
    "from importlib import reload\n",
    "import mmf;"
   ]
  },
  {
   "cell_type": "code",
   "execution_count": 25,
   "metadata": {
    "autoscroll": false,
    "collapsed": false,
    "ein.hycell": false,
    "ein.tags": "worksheet-0",
    "slideshow": {
     "slide_type": "-"
    }
   },
   "outputs": [
    {
     "name": "stdout",
     "output_type": "stream",
     "text": [
      "Level 1: best_El=2868.78 best_inds=[16, 15]\n"
     ]
    },
    {
     "name": "stdout",
     "output_type": "stream",
     "text": [
      "Level 2: best_El=3454.18 best_inds=[21, 19]\n"
     ]
    },
    {
     "name": "stdout",
     "output_type": "stream",
     "text": [
      "Level 3: best_El=3547.98 best_inds=[37, 38]\n"
     ]
    },
    {
     "name": "stdout",
     "output_type": "stream",
     "text": [
      "Level 4: best_El=3538.48 best_inds=[12, 13]\n"
     ]
    },
    {
     "name": "stdout",
     "output_type": "stream",
     "text": [
      "Level 5: best_El=3648.91 best_inds=[34, 33]\n"
     ]
    },
    {
     "name": "stdout",
     "output_type": "stream",
     "text": [
      "Level 6: best_El=3875.85 best_inds=[17, 20]\n"
     ]
    },
    {
     "name": "stdout",
     "output_type": "stream",
     "text": [
      "Level 7: best_El=4365.97 best_inds=[3, 2]\n"
     ]
    },
    {
     "name": "stdout",
     "output_type": "stream",
     "text": [
      "Level 8: best_El=4430.94 best_inds=[37, 36]\n"
     ]
    },
    {
     "name": "stdout",
     "output_type": "stream",
     "text": [
      "Level 9: best_El=4648.90 best_inds=[43, 44]\n"
     ]
    },
    {
     "name": "stdout",
     "output_type": "stream",
     "text": [
      "Level 10: best_El=4554.09 best_inds=[11, 21]\n"
     ]
    },
    {
     "name": "stdout",
     "output_type": "stream",
     "text": [
      "Level 11: best_El=4789.33 best_inds=[24, 22]\n"
     ]
    },
    {
     "name": "stdout",
     "output_type": "stream",
     "text": [
      "Level 12: best_El=5193.29 best_inds=[18, 11]\n"
     ]
    },
    {
     "name": "stdout",
     "output_type": "stream",
     "text": [
      "Level 13: best_El=5062.48 best_inds=[34, 35]\n"
     ]
    },
    {
     "name": "stdout",
     "output_type": "stream",
     "text": [
      "Level 14: best_El=4457.57 best_inds=[45, 41]\n"
     ]
    },
    {
     "name": "stdout",
     "output_type": "stream",
     "text": [
      "Level 15: best_El=5293.14 best_inds=[17, 23]\n"
     ]
    },
    {
     "name": "stdout",
     "output_type": "stream",
     "text": [
      "Level 16: best_El=5125.95 best_inds=[27, 26]\n"
     ]
    },
    {
     "name": "stdout",
     "output_type": "stream",
     "text": [
      "Level 17: best_El=5897.76 best_inds=[5, 6]\n"
     ]
    },
    {
     "name": "stdout",
     "output_type": "stream",
     "text": [
      "Level 18: best_El=6080.26 best_inds=[30, 29]\n"
     ]
    },
    {
     "name": "stdout",
     "output_type": "stream",
     "text": [
      "Level 19: best_El=6155.17 best_inds=[46, 47]\n"
     ]
    },
    {
     "name": "stdout",
     "output_type": "stream",
     "text": [
      "Level 20: best_El=6185.87 best_inds=[40, 39]\n"
     ]
    },
    {
     "name": "stdout",
     "output_type": "stream",
     "text": [
      "Level 21: best_El=5947.90 best_inds=[9, 10]\n"
     ]
    },
    {
     "name": "stdout",
     "output_type": "stream",
     "text": [
      "Level 22: best_El=6054.56 best_inds=[45, 24]\n"
     ]
    },
    {
     "name": "stdout",
     "output_type": "stream",
     "text": [
      "Level 23: best_El=6229.94 best_inds=[3, 0]\n"
     ]
    },
    {
     "name": "stdout",
     "output_type": "stream",
     "text": [
      "Level 24: best_El=6034.94 best_inds=[16, 14]\n"
     ]
    },
    {
     "name": "stdout",
     "output_type": "stream",
     "text": [
      "Level 25: best_El=6316.64 best_inds=[31, 32]\n"
     ]
    },
    {
     "name": "stdout",
     "output_type": "stream",
     "text": [
      "Level 26: best_El=6795.08 best_inds=[12, 16]\n"
     ]
    },
    {
     "name": "stdout",
     "output_type": "stream",
     "text": [
      "Level 27: best_El=6757.31 best_inds=[28, 27]\n"
     ]
    },
    {
     "name": "stdout",
     "output_type": "stream",
     "text": [
      "Level 28: best_El=6920.92 best_inds=[42, 43]\n"
     ]
    },
    {
     "name": "stdout",
     "output_type": "stream",
     "text": [
      "Level 29: best_El=5601.20 best_inds=[8, 7]\n"
     ]
    },
    {
     "name": "stdout",
     "output_type": "stream",
     "text": [
      "Level 30: best_El=7014.95 best_inds=[5, 4]\n"
     ]
    },
    {
     "name": "stdout",
     "output_type": "stream",
     "text": [
      "Level 31: best_El=8921.52 best_inds=[17, 18]\n"
     ]
    },
    {
     "name": "stdout",
     "output_type": "stream",
     "text": [
      "Level 32: best_El=8917.67 best_inds=[37, 34]\n"
     ]
    },
    {
     "name": "stdout",
     "output_type": "stream",
     "text": [
      "Level 33: best_El=8763.62 best_inds=[5, 1]\n"
     ]
    },
    {
     "name": "stdout",
     "output_type": "stream",
     "text": [
      "Level 34: best_El=9116.99 best_inds=[45, 40]\n"
     ]
    },
    {
     "name": "stdout",
     "output_type": "stream",
     "text": [
      "Level 35: best_El=10159.78 best_inds=[30, 31]\n"
     ]
    },
    {
     "name": "stdout",
     "output_type": "stream",
     "text": [
      "Level 36: best_El=10466.09 best_inds=[28, 25]\n"
     ]
    },
    {
     "name": "stdout",
     "output_type": "stream",
     "text": [
      "Level 37: best_El=10086.35 best_inds=[9, 8]\n",
      "Level 38: best_El=11936.14 best_inds=[30, 37]\n"
     ]
    },
    {
     "name": "stdout",
     "output_type": "stream",
     "text": [
      "Level 39: best_El=15795.91 best_inds=[28, 9]\n",
      "Level 40: best_El=13726.95 best_inds=[28, 45]\n"
     ]
    },
    {
     "name": "stdout",
     "output_type": "stream",
     "text": [
      "Level 41: best_El=15095.74 best_inds=[46, 42]\n"
     ]
    },
    {
     "name": "stdout",
     "output_type": "stream",
     "text": [
      "Level 42: best_El=15815.20 best_inds=[46, 30]\n"
     ]
    },
    {
     "name": "stdout",
     "output_type": "stream",
     "text": [
      "Level 43: best_El=51140.10 best_inds=[28, 5]\n",
      "Level 44: best_El=41204.54 best_inds=[17, 3]\n"
     ]
    },
    {
     "name": "stdout",
     "output_type": "stream",
     "text": [
      "Level 45: best_El=25271.12 best_inds=[12, 46]\n",
      "Level 46: best_El=83.94 best_inds=[12, 28]\n",
      "Level 47: best_El=0.00 best_inds=[17, 12]\n"
     ]
    }
   ],
   "source": [
    "reload(mmf)\n",
    "U,Sl,Al, removed, kept = mmf.MMF(CC, 47, 2)"
   ]
  },
  {
   "cell_type": "code",
   "execution_count": 31,
   "metadata": {
    "autoscroll": false,
    "collapsed": false,
    "ein.hycell": false,
    "ein.tags": "worksheet-0",
    "slideshow": {
     "slide_type": "-"
    }
   },
   "outputs": [],
   "source": [
    "import matplotlib.colors as colors"
   ]
  },
  {
   "cell_type": "code",
   "execution_count": 32,
   "metadata": {
    "autoscroll": false,
    "collapsed": false,
    "ein.hycell": false,
    "ein.tags": "worksheet-0",
    "slideshow": {
     "slide_type": "-"
    }
   },
   "outputs": [],
   "source": [
    "cnorm = colors.TwoSlopeNorm(vmin=-20, vcenter=0, vmax=100)"
   ]
  },
  {
   "cell_type": "code",
   "execution_count": 38,
   "metadata": {
    "autoscroll": false,
    "collapsed": false,
    "ein.hycell": false,
    "ein.tags": "worksheet-0",
    "slideshow": {
     "slide_type": "-"
    }
   },
   "outputs": [
    {
     "data": {
      "text/plain": [
       "<matplotlib.colorbar.Colorbar at 0x7fbcb2aef310>"
      ]
     },
     "execution_count": 38,
     "metadata": {},
     "output_type": "execute_result"
    },
    {
     "data": {
      "image/png": "[encoded data removed]",
      "text/plain": [
       "<Figure size 480x480 with 2 Axes>"
      ]
     },
     "metadata": {},
     "output_type": "display_data"
    }
   ],
   "source": [
    "matshow(CC, cmap=cm.bwr_r, vmin=-20,vmax=100); colorbar()"
   ]
  },
  {
   "cell_type": "code",
   "execution_count": 40,
   "metadata": {
    "autoscroll": false,
    "collapsed": false,
    "ein.hycell": false,
    "ein.tags": "worksheet-0",
    "slideshow": {
     "slide_type": "-"
    }
   },
   "outputs": [
    {
     "data": {
      "text/plain": [
       "<matplotlib.colorbar.Colorbar at 0x7fbcb28e5160>"
      ]
     },
     "execution_count": 40,
     "metadata": {},
     "output_type": "execute_result"
    },
    {
     "data": {
      "image/png": "[encoded data removed]",
      "text/plain": [
       "<Figure size 1500x400 with 4 Axes>"
      ]
     },
     "metadata": {},
     "output_type": "display_data"
    }
   ],
   "source": [
    "Arec, Urec, H = mmf.rec(Al, U, Sl, 47)\n",
    "figure(figsize=(15,4))\n",
    "subplot(133); im3 = matshow(Arec, cmap=cm.Spectral_r, vmin=-20,vmax=100, fignum=False);\n",
    "subplot(132); matshow(H,          cmap=cm.Spectral_r, vmin=-20,vmax=100, fignum=False); \n",
    "subplot(131); matshow(CC,         cmap=cm.Spectral_r, vmin=-20,vmax=100, fignum=False);\n",
    "divider = make_axes_locatable(gca())\n",
    "cax = divider.append_axes(\"right\", size=\"5%\", pad=0.05)\n",
    "colorbar(im3, cax=cax)"
   ]
  },
  {
   "cell_type": "code",
   "execution_count": 27,
   "metadata": {
    "autoscroll": false,
    "collapsed": false,
    "ein.hycell": false,
    "ein.tags": "worksheet-0",
    "slideshow": {
     "slide_type": "-"
    }
   },
   "outputs": [
    {
     "data": {
      "text/plain": [
       "<matplotlib.colorbar.Colorbar at 0x7fbd5e6fcfd0>"
      ]
     },
     "execution_count": 27,
     "metadata": {},
     "output_type": "execute_result"
    },
    {
     "data": {
      "image/png": "[encoded data removed]",
      "text/plain": [
       "<Figure size 480x480 with 2 Axes>"
      ]
     },
     "metadata": {},
     "output_type": "display_data"
    }
   ],
   "source": [
    "ii = -10\n",
    "link = linkage(Al[ii], method = 'average')\n",
    "#leaf_order = leaves_list(link)\n",
    "leaf_order = arange(Al[ii].shape[0])\n",
    "leaf_order = removed + kept\n",
    "AA = Al[ii][leaf_order][:,leaf_order]\n",
    "matshow(AA, cmap=cm.bwr_r, vmin=-250,vmax=250); colorbar()"
   ]
  },
  {
   "cell_type": "code",
   "execution_count": 28,
   "metadata": {
    "autoscroll": false,
    "collapsed": false,
    "ein.hycell": false,
    "ein.tags": "worksheet-0",
    "slideshow": {
     "slide_type": "-"
    }
   },
   "outputs": [],
   "source": [
    "UU = [U[0]]\n",
    "for ii in range(1, len(U)):\n",
    "    UU.append(U[ii] @ UU[-1])"
   ]
  },
  {
   "cell_type": "code",
   "execution_count": 29,
   "metadata": {
    "autoscroll": false,
    "collapsed": false,
    "ein.hycell": false,
    "ein.tags": "worksheet-0",
    "slideshow": {
     "slide_type": "-"
    }
   },
   "outputs": [
    {
     "data": {
      "text/plain": [
       "<matplotlib.colorbar.Colorbar at 0x7fbd5e640fd0>"
      ]
     },
     "execution_count": 29,
     "metadata": {},
     "output_type": "execute_result"
    },
    {
     "data": {
      "image/png": "[encoded data removed]",
      "text/plain": [
       "<Figure size 480x480 with 2 Axes>"
      ]
     },
     "metadata": {},
     "output_type": "display_data"
    }
   ],
   "source": [
    "matshow(UU[-1][leaf_order], cmap=cm.bwr, vmin=-1,vmax=1); colorbar()"
   ]
  },
  {
   "cell_type": "code",
   "execution_count": 30,
   "metadata": {
    "autoscroll": false,
    "collapsed": false,
    "ein.hycell": false,
    "ein.tags": "worksheet-0",
    "slideshow": {
     "slide_type": "-"
    }
   },
   "outputs": [
    {
     "name": "stdout",
     "output_type": "stream",
     "text": [
      "Selected indices 1:  44 39\n"
     ]
    },
    {
     "name": "stdout",
     "output_type": "stream",
     "text": [
      "O: tensor([[ 0.7214,  0.6925],\n",
      "        [-0.6925,  0.7214]])\n",
      "Selected indices 2:  28 26\n",
      "O: tensor([[ 0.7711,  0.6367],\n",
      "        [-0.6367,  0.7711]])\n",
      "Selected indices 3:  37 34\n",
      "O: tensor([[ 0.7672,  0.6415],\n",
      "        [-0.6415,  0.7672]])\n",
      "Selected indices 4:  31 25\n",
      "O: tensor([[ 0.7850,  0.6196],\n",
      "        [-0.6196,  0.7850]])\n",
      "Selected indices 5:  33 23\n",
      "O: tensor([[ 0.7283,  0.6852],\n",
      "        [-0.6852,  0.7283]])\n",
      "Selected indices 6:  36 34\n",
      "O: tensor([[ 0.8422,  0.5392],\n",
      "        [-0.5392,  0.8422]])\n",
      "Selected indices 7:  29 27\n",
      "O: tensor([[ 0.7636,  0.6457],\n",
      "        [-0.6457,  0.7636]])\n",
      "Selected indices 8:  16 15\n",
      "O: tensor([[ 0.7285,  0.6850],\n",
      "        [-0.6850,  0.7285]])\n",
      "Selected indices 9:  42 40\n",
      "O: tensor([[ 0.7621,  0.6475],\n",
      "        [-0.6475,  0.7621]])\n",
      "Selected indices 10:  5 4\n",
      "O: tensor([[ 0.7483,  0.6634],\n",
      "        [-0.6634,  0.7483]])\n",
      "Selected indices 11:  2 3\n",
      "O: tensor([[ 0.7108,  0.7034],\n",
      "        [-0.7034,  0.7108]])\n",
      "Selected indices 12:  6 4\n",
      "O: tensor([[ 0.8311,  0.5562],\n",
      "        [-0.5562,  0.8311]])\n",
      "Selected indices 13:  39 43\n",
      "O: tensor([[ 0.8370,  0.5472],\n",
      "        [-0.5472,  0.8370]])\n",
      "Selected indices 14:  34 38\n",
      "O: tensor([[ 0.8493,  0.5279],\n",
      "        [-0.5279,  0.8493]])\n",
      "Selected indices 15:  17 14\n",
      "O: tensor([[ 0.7428,  0.6696],\n",
      "        [-0.6696,  0.7428]])\n",
      "Selected indices 16:  10 4\n",
      "O: tensor([[ 0.8649,  0.5020],\n",
      "        [-0.5020,  0.8649]])\n",
      "Selected indices 17:  4 9\n",
      "O: tensor([[ 0.9096,  0.4154],\n",
      "        [-0.4154,  0.9096]])\n",
      "Selected indices 18:  12 11\n",
      "O: tensor([[ 0.7283,  0.6853],\n",
      "        [-0.6853,  0.7283]])\n",
      "Selected indices 19:  0 30\n",
      "O: tensor([[-0.8264,  0.5631],\n",
      "        [-0.5631, -0.8264]])\n",
      "Selected indices 20:  47 39\n",
      "O: tensor([[ 0.8969,  0.4421],\n",
      "        [-0.4421,  0.8969]])\n",
      "Selected indices 21:  7 24\n",
      "O: tensor([[ 0.7422,  0.6701],\n",
      "        [-0.6701,  0.7422]])\n",
      "Selected indices 22:  25 27\n",
      "O: tensor([[ 0.7307,  0.6827],\n",
      "        [-0.6827,  0.7307]])\n",
      "Selected indices 23:  11 13\n",
      "O: tensor([[ 0.8233,  0.5676],\n",
      "        [-0.5676,  0.8233]])\n",
      "Selected indices 24:  18 21\n",
      "O: tensor([[ 0.7118,  0.7023],\n",
      "        [-0.7023,  0.7118]])\n",
      "Selected indices 25:  1 0\n",
      "O: tensor([[-0.9993, -0.0371],\n",
      "        [ 0.0371, -0.9993]])\n",
      "Selected indices 26:  11 19\n",
      "O: tensor([[ 0.8329,  0.5534],\n",
      "        [-0.5534,  0.8329]])\n",
      "Selected indices 27:  46 32\n",
      "O: tensor([[ 0.7464,  0.6655],\n",
      "        [-0.6655,  0.7464]])\n",
      "Selected indices 28:  0 45\n",
      "O: tensor([[-0.9997, -0.0253],\n",
      "        [ 0.0253, -0.9997]])\n",
      "Selected indices 29:  39 41\n",
      "O: tensor([[ 0.8860,  0.4637],\n",
      "        [-0.4637,  0.8860]])\n",
      "Selected indices 30:  25 26\n",
      "O: tensor([[ 0.8125,  0.5830],\n",
      "        [-0.5830,  0.8125]])\n",
      "Selected indices 31:  4 8\n",
      "O: tensor([[ 0.9079,  0.4193],\n",
      "        [-0.4193,  0.9079]])\n",
      "Selected indices 32:  39 40\n",
      "O: tensor([[ 0.8664,  0.4993],\n",
      "        [-0.4993,  0.8664]])\n",
      "Selected indices 33:  7 22\n",
      "O: tensor([[ 0.7118,  0.7024],\n",
      "        [-0.7024,  0.7118]])\n",
      "Selected indices 34:  20 18\n",
      "O: tensor([[ 0.8404,  0.5420],\n",
      "        [-0.5420,  0.8404]])\n",
      "Selected indices 35:  14 11\n",
      "O: tensor([[ 0.8232,  0.5677],\n",
      "        [-0.5677,  0.8232]])\n",
      "Selected indices 36:  4 35\n",
      "O: tensor([[ 0.9270,  0.3750],\n",
      "        [-0.3750,  0.9270]])\n",
      "Selected indices 37:  0 2\n",
      "O: tensor([[-0.9906, -0.1366],\n",
      "        [ 0.1366, -0.9906]])\n",
      "Selected indices 38:  23 7\n",
      "O: tensor([[ 0.7982,  0.6024],\n",
      "        [-0.6024,  0.7982]])\n",
      "Selected indices 39:  7 18\n",
      "O: tensor([[ 0.7392,  0.6735],\n",
      "        [-0.6735,  0.7392]])\n",
      "Selected indices 40:  15 11\n",
      "O: tensor([[ 0.8584,  0.5130],\n",
      "        [-0.5130,  0.8584]])\n",
      "Selected indices 41:  34 4\n",
      "O: tensor([[ 0.8341,  0.5515],\n",
      "        [-0.5515,  0.8341]])\n",
      "Selected indices 42:  11 32\n",
      "O: tensor([[ 0.9583,  0.2858],\n",
      "        [-0.2858,  0.9583]])\n",
      "Selected indices 43:  4 25\n",
      "O: tensor([[ 0.7781,  0.6282],\n",
      "        [-0.6282,  0.7781]])\n",
      "Selected indices 44:  4 39\n",
      "O: tensor([[ 0.7727,  0.6348],\n",
      "        [-0.6348,  0.7727]])\n",
      "Selected indices 45:  7 4\n",
      "O: tensor([[ 0.8399,  0.5428],\n",
      "        [-0.5428,  0.8399]])\n",
      "Selected indices 46:  4 11\n",
      "O: tensor([[ 0.8602,  0.5100],\n",
      "        [-0.5100,  0.8602]])\n",
      "Selected indices 47:  0 4\n",
      "O: tensor([[-0.9994, -0.0333],\n",
      "        [ 0.0333, -0.9994]])\n"
     ]
    }
   ],
   "source": [
    "import baseline_mmf as bmmf\n",
    "reload(bmmf)\n",
    "N = CC.shape[0]\n",
    "L = 47\n",
    "B = bmmf.Baseline_MMF(N, L, N - L )\n",
    "bmmf.torch.manual_seed(0)\n",
    "A_rec, A_, right, D, mother_coef, father_coef, mother_wave, father_wave =  B.forward(bmmf.torch.from_numpy(CC).float())"
   ]
  },
  {
   "cell_type": "code",
   "execution_count": 175,
   "metadata": {
    "autoscroll": false,
    "collapsed": false,
    "ein.hycell": false,
    "ein.tags": "worksheet-0",
    "slideshow": {
     "slide_type": "-"
    }
   },
   "outputs": [
    {
     "data": {
      "text/plain": [
       "<matplotlib.image.AxesImage at 0x7fc441dd7b50>"
      ]
     },
     "execution_count": 175,
     "metadata": {},
     "output_type": "execute_result"
    },
    {
     "data": {
      "image/png": "[encoded data removed]",
      "text/plain": [
       "<Figure size 480x480 with 1 Axes>"
      ]
     },
     "metadata": {},
     "output_type": "display_data"
    }
   ],
   "source": [
    "matshow(right)"
   ]
  },
  {
   "cell_type": "code",
   "execution_count": 176,
   "metadata": {
    "autoscroll": false,
    "collapsed": false,
    "ein.hycell": false,
    "ein.tags": "worksheet-0",
    "slideshow": {
     "slide_type": "-"
    }
   },
   "outputs": [
    {
     "data": {
      "text/plain": [
       "<matplotlib.colorbar.Colorbar at 0x7fc440df7c70>"
      ]
     },
     "execution_count": 176,
     "metadata": {},
     "output_type": "execute_result"
    },
    {
     "data": {
      "image/png": "[encoded data removed]",
      "text/plain": [
       "<Figure size 480x480 with 2 Axes>"
      ]
     },
     "metadata": {},
     "output_type": "display_data"
    }
   ],
   "source": [
    "matshow(A_rec.detach().numpy(), cmap=cm.bwr_r, vmin=-250,vmax=250); colorbar()"
   ]
  },
  {
   "cell_type": "code",
   "execution_count": null,
   "metadata": {
    "autoscroll": false,
    "collapsed": false,
    "ein.hycell": false,
    "ein.tags": "worksheet-0",
    "slideshow": {
     "slide_type": "-"
    }
   },
   "outputs": [],
   "source": []
  }
 ],
 "metadata": {
  "kernelspec": {
   "display_name": "Python 3",
   "name": "python3"
  },
  "name": "mmf.ipynb"
 },
 "nbformat": 4,
 "nbformat_minor": 4
}
